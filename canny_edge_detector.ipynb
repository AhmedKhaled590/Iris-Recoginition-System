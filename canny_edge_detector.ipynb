{
 "cells": [
  {
   "cell_type": "code",
   "execution_count": 2,
   "metadata": {},
   "outputs": [
    {
     "name": "stdout",
     "output_type": "stream",
     "text": [
      "The autoreload extension is already loaded. To reload it, use:\n",
      "  %reload_ext autoreload\n",
      "7 240 320 54\n",
      "dsf  4\n",
      "63 8 8 8\n",
      "dsf  4\n",
      "42 8 8 55\n",
      "dsf  4\n",
      "[(152.0, 122.0, 61)] [(151.0, 121.0, 26)]\n"
     ]
    }
   ],
   "source": [
    "%matplotlib inline\n",
    "%load_ext autoreload\n",
    "%autoreload 2\n",
    "from skimage.filters import threshold_otsu\n",
    "import matplotlib.pyplot as plt\n",
    "from skimage.color import rgb2gray\n",
    "import canny_edge_detector as canny\n",
    "from sobel import show_images\n",
    "import matplotlib.pyplot as plt \n",
    "import skimage.io as io\n",
    "import os\n",
    "\n",
    "import numpy as np\n",
    "IMG_PATH = 'images/kelvinl1.bmp'\n",
    "o_circles,inner_circles = canny.process_for_daugman(canny,IMG_PATH)\n",
    "print(o_circles,inner_circles)"
   ]
  }
 ],
 "metadata": {
  "interpreter": {
   "hash": "916dbcbb3f70747c44a77c7bcd40155683ae19c65e1c03b4aa3499c5328201f1"
  },
  "kernelspec": {
   "display_name": "Python 3.8.10 64-bit",
   "language": "python",
   "name": "python3"
  },
  "language_info": {
   "codemirror_mode": {
    "name": "ipython",
    "version": 3
   },
   "file_extension": ".py",
   "mimetype": "text/x-python",
   "name": "python",
   "nbconvert_exporter": "python",
   "pygments_lexer": "ipython3",
   "version": "3.8.10"
  },
  "orig_nbformat": 4
 },
 "nbformat": 4,
 "nbformat_minor": 2
}
