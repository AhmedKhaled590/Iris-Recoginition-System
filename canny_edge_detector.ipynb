{
 "cells": [
  {
   "cell_type": "code",
   "execution_count": 2,
   "metadata": {},
   "outputs": [
    {
     "name": "stdout",
     "output_type": "stream",
     "text": [
      "The autoreload extension is already loaded. To reload it, use:\n",
      "  %reload_ext autoreload\n",
      "[(132, 131, 57)] [(132, 131, 26)]\n"
     ]
    }
   ],
   "source": [
    "%matplotlib inline\n",
    "%load_ext autoreload\n",
    "%autoreload 2\n",
    "from skimage.filters import threshold_otsu\n",
    "import matplotlib.pyplot as plt\n",
    "from skimage.color import rgb2gray\n",
    "import canny_edge_detector as canny\n",
    "from sobel import show_images\n",
    "import matplotlib.pyplot as plt \n",
    "import skimage.io as io\n",
    "import os\n",
    "\n",
    "import numpy as np\n",
    "import cv2\n",
    "\n",
    "\n",
    "paths=[]\n",
    "# def load_data(dir_name = 'images'):    \n",
    "#     imgs = []\n",
    "#     for filename in os.listdir(dir_name):\n",
    "#         if os.path.isfile(dir_name + '/' + filename):\n",
    "#             img = io.imread(dir_name + '/' + filename)\n",
    "#             img = rgb2gray(img)\n",
    "#             imgs.append(img)\n",
    "#             paths.append(dir_name + '/' + filename)\n",
    "#     return imgs\n",
    "# def visualize(imgs, format=None, gray=False):\n",
    "#     plt.figure(figsize=(20, 40))\n",
    "#     for i, img in enumerate(imgs):\n",
    "#         if img.shape[0] == 3:\n",
    "#             img = img.transpose(1,2,0)\n",
    "#         plt_idx = i+1\n",
    "#         plt.subplot(2, 2, plt_idx)\n",
    "#         plt.imshow(img, format)\n",
    "#     plt.show()\n",
    "# imgs = load_data()\n",
    "\n",
    "\n",
    "\n",
    "# lower = cv2.threshold(img, 40, 255, cv2.THRESH_BINARY )[0]/3200\n",
    "# upper = lower/3200+.0499\n",
    "\n",
    "\n",
    "o_circles,inner_circles = canny.process_for_daugman(canny)\n",
    "print(o_circles,inner_circles)"
   ]
  }
 ],
 "metadata": {
  "interpreter": {
   "hash": "916dbcbb3f70747c44a77c7bcd40155683ae19c65e1c03b4aa3499c5328201f1"
  },
  "kernelspec": {
   "display_name": "Python 3.8.10 64-bit",
   "language": "python",
   "name": "python3"
  },
  "language_info": {
   "codemirror_mode": {
    "name": "ipython",
    "version": 3
   },
   "file_extension": ".py",
   "mimetype": "text/x-python",
   "name": "python",
   "nbconvert_exporter": "python",
   "pygments_lexer": "ipython3",
   "version": "3.8.10"
  },
  "orig_nbformat": 4
 },
 "nbformat": 4,
 "nbformat_minor": 2
}
