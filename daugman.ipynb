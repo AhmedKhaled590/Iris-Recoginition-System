{
 "cells": [
  {
   "cell_type": "code",
   "execution_count": 245,
   "metadata": {},
   "outputs": [],
   "source": [
    "from scipy.ndimage.filters import convolve\n",
    "import numpy as np\n",
    "import skimage.io as io\n",
    "import matplotlib.pyplot as plt\n",
    "import cv2\n",
    "import itertools\n",
    "import math\n",
    "from typing import Tuple, List\n",
    "import canny_edge_detector as canny\n",
    "from skimage.color import rgb2gray\n",
    "from PIL import Image\n",
    "from skimage.exposure import histogram\n",
    "from matplotlib.pyplot import bar\n"
   ]
  },
  {
   "cell_type": "code",
   "execution_count": 246,
   "metadata": {},
   "outputs": [
    {
     "name": "stdout",
     "output_type": "stream",
     "text": [
      "7 240 320 54\n",
      "dsf  4\n",
      "63 8 8 8\n",
      "dsf  4\n",
      "42 4 4 31\n",
      "dsf  4\n"
     ]
    }
   ],
   "source": [
    "IMG_PATH = 'images/roslir2.bmp'\n",
    "o_circles, inner_circles = canny.process_for_daugman(canny,IMG_PATH)\n",
    "inner_radius=inner_circles[0][2], \n",
    "outer_radius=o_circles[0][2]\n",
    "iris_height=outer_radius-inner_radius\n",
    "iris_height=iris_height[0].astype(int)\n",
    "inner_radius= inner_radius[0]\n"
   ]
  },
  {
   "cell_type": "code",
   "execution_count": 247,
   "metadata": {},
   "outputs": [],
   "source": [
    "def showHist(img):\n",
    "    # An \"interface\" to matplotlib.axes.Axes.hist() method\n",
    "    plt.figure()\n",
    "    imgHist = histogram(img, nbins=256)\n",
    "    \n",
    "    bar(imgHist[1].astype(np.uint8), imgHist[0], width=0.8, align='center')\n"
   ]
  },
  {
   "cell_type": "code",
   "execution_count": 248,
   "metadata": {},
   "outputs": [
    {
     "name": "stderr",
     "output_type": "stream",
     "text": [
      "<ipython-input-247-d3113cb943ae>:4: UserWarning: This might be a color image. The histogram will be computed on the flattened image. You can instead apply this function to each color channel.\n",
      "  imgHist = histogram(img, nbins=256)\n"
     ]
    },
    {
     "data": {
      "image/png": "[encoded data removed]",
      "text/plain": [
       "<Figure size 432x288 with 1 Axes>"
      ]
     },
     "metadata": {
      "needs_background": "light"
     },
     "output_type": "display_data"
    },
    {
     "data": {
      "image/png": "[encoded data removed]",
      "text/plain": [
       "<Figure size 432x288 with 1 Axes>"
      ]
     },
     "metadata": {
      "needs_background": "light"
     },
     "output_type": "display_data"
    }
   ],
   "source": [
    "\n",
    "def daugman_normalizaiton(image, height, width, r_in, r_out):\n",
    "    thetas = np.arange(0, 2 * np.pi, 2 * np.pi / width)  # Theta values\n",
    "    # print(thetas)\n",
    "    # r_out = r_in + r_out\n",
    "    # Create empty flatten image\n",
    "    flat = np.zeros((height, width, 3), np.uint8)\n",
    "    circle_x = int(image.shape[0] / 2)\n",
    "    circle_y = int(image.shape[1] / 2)\n",
    "\n",
    "    for i in range(width):\n",
    "        for j in range(height):\n",
    "            theta = thetas[i]  # value of theta coordinate\n",
    "            r_pro = j / height  # value of r coordinate(normalized)\n",
    "\n",
    "            # get coordinate of boundaries\n",
    "            Xi = circle_x + r_in * np.cos(theta)\n",
    "            Yi = circle_y + r_in * np.sin(theta)\n",
    "            Xo = circle_x + r_out * np.cos(theta)\n",
    "            Yo = circle_y + r_out * np.sin(theta)\n",
    "\n",
    "            # the matched cartesian coordinates for the polar coordinates\n",
    "            Xc = (1 - r_pro) * Xi + r_pro * Xo\n",
    "            Yc = (1 - r_pro) * Yi + r_pro * Yo\n",
    "\n",
    "            color = image[int(Xc)][int(Yc)]  # color of the pixel\n",
    "\n",
    "            flat[j][i] = color\n",
    "    return flat\n",
    "\n",
    "\n",
    "image = 'images/kelvinl3.bmp'\n",
    "img = cv2.imread(image, 0)\n",
    "cimg = cv2.cvtColor(img, cv2.COLOR_GRAY2BGR)\n",
    "plt.imshow(cimg)\n",
    "image_nor = daugman_normalizaiton(cimg, iris_height, 360, inner_radius, outer_radius)\n",
    "# plt.imshow(image_nor)\n",
    "io.imshow(image_nor)\n",
    "showHist(image_nor)\n",
    "# hist = cv2.calcHist([image],[0],None,[256],[0,256])\n",
    "# plt.imshow(hist)\n"
   ]
  },
  {
   "cell_type": "code",
   "execution_count": 249,
   "metadata": {},
   "outputs": [
    {
     "name": "stdout",
     "output_type": "stream",
     "text": [
      "1443\n",
      " B calculated\n",
      "0\n",
      " B calculated\n",
      "1\n",
      " B calculated\n",
      "2\n",
      " B calculated\n",
      "3\n",
      " B calculated\n",
      "4\n",
      " B calculated\n",
      "5\n",
      " B calculated\n",
      "6\n",
      " B calculated\n",
      "7\n",
      " B calculated\n",
      "8\n",
      " B calculated\n",
      "9\n",
      " B calculated\n",
      "10\n",
      " B calculated\n",
      "11\n",
      " B calculated\n",
      "12\n",
      " B calculated\n",
      "13\n",
      " B calculated\n",
      "14\n",
      " B calculated\n",
      "15\n",
      " B calculated\n",
      "16\n",
      " B calculated\n",
      "17\n",
      " B calculated\n",
      "18\n",
      "18\n"
     ]
    }
   ],
   "source": [
    " ############ Removing noise (eyelashes/ pupil) from normalized img\n",
    "\n",
    "if(image_nor.dtype != 'uint8'): \n",
    "    image_nor = 255 * image_nor # Now scale by 255\n",
    "    image_nor = image_nor.astype(np.uint8)\n",
    "#get image size\n",
    "G=256\n",
    "N=image_nor.shape[0]\n",
    "M=image_nor.shape[1]\n",
    "\n",
    "H= [0] * G # array of histogram\n",
    "\n",
    "\n",
    "#set the histogram array in H array \n",
    "size=len(list(np.histogram(image_nor, 256))[1])\n",
    "start=int( list(np.histogram(image_nor, 256))[1][0])\n",
    "end=int(list(np.histogram(image_nor, 256))[1][size-1])\n",
    "\n",
    "\n",
    "k=0\n",
    "for i in range(start,end):\n",
    "    H[i]=list(np.histogram(image_nor, 256))[0][k]\n",
    "    H[i]=int( H[i])\n",
    "    k+=1  \n",
    "\n",
    "#------------------------------------------------------------\n",
    "\n",
    "# print(H)\n",
    "Peak= np.max(H)\n",
    "intensity_peak= np.argmax(H) #sk\n",
    "# print(Peak)\n",
    "# print(intensity_peak)\n",
    "\n",
    "C= 0.1*Peak    ################################\n",
    "B=0\n",
    "print(Peak)\n",
    "for i in range(0,len(H)):\n",
    "    if H[i] <= C and i<intensity_peak: \n",
    "        print(\" B calculated\")\n",
    "        B=i\n",
    "        print(B)\n",
    "\n",
    "print(B)\n",
    "Threshold=B    ################################ \n",
    "\n"
   ]
  }
 ],
 "metadata": {
  "interpreter": {
   "hash": "3f800561dde6209f0c647b1ec24b295364b37801e2a63d392a491285ef4d5a88"
  },
  "kernelspec": {
   "display_name": "Python 3.8.8 64-bit ('base': conda)",
   "language": "python",
   "name": "python3"
  },
  "language_info": {
   "codemirror_mode": {
    "name": "ipython",
    "version": 3
   },
   "file_extension": ".py",
   "mimetype": "text/x-python",
   "name": "python",
   "nbconvert_exporter": "python",
   "pygments_lexer": "ipython3",
   "version": "3.8.8"
  },
  "orig_nbformat": 4
 },
 "nbformat": 4,
 "nbformat_minor": 2
}
